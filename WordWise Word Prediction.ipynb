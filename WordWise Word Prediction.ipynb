{
 "cells": [
  {
   "cell_type": "code",
   "execution_count": 1,
   "id": "67650484",
   "metadata": {},
   "outputs": [],
   "source": [
    "# Importing libraries\n",
    "import numpy as np\n",
    "import tensorflow as tf\n",
    "from tensorflow.keras.preprocessing.text import Tokenizer\n",
    "from tensorflow.keras.preprocessing.sequence import pad_sequences\n",
    "from tensorflow.keras.models import Sequential\n",
    "from tensorflow.keras.layers import Embedding, LSTM, Dense, Dropout\n",
    "from tensorflow.keras.optimizers import Adam"
   ]
  },
  {
   "cell_type": "code",
   "execution_count": 2,
   "id": "0a919065",
   "metadata": {},
   "outputs": [],
   "source": [
    "# Loading text file\n",
    "with open('word-predict.txt', 'r', encoding='utf-8') as file:\n",
    "    text = file.read().lower()"
   ]
  },
  {
   "cell_type": "code",
   "execution_count": 3,
   "id": "2eb93c11",
   "metadata": {},
   "outputs": [],
   "source": [
    "# Tokenizing the text \n",
    "tokenizer = Tokenizer()\n",
    "tokenizer.fit_on_texts([text])\n",
    "total_words = len(tokenizer.word_index) + 1"
   ]
  },
  {
   "cell_type": "code",
   "execution_count": 4,
   "id": "fdbfdb7c",
   "metadata": {},
   "outputs": [],
   "source": [
    "# Preparing the data for training\n",
    "input_sequences = []\n",
    "for line in text.split('\\n'):\n",
    "    token_list = tokenizer.texts_to_sequences([line])[0]\n",
    "    for i in range(1, len(token_list)):\n",
    "        n_gram_sequence = token_list[:i+1]\n",
    "        input_sequences.append(n_gram_sequence)"
   ]
  },
  {
   "cell_type": "code",
   "execution_count": 5,
   "id": "b9c2c41a",
   "metadata": {},
   "outputs": [],
   "source": [
    "# Determining the maximum sequence length among all input sequences\n",
    "max_sequence_len = max([len(x) for x in input_sequences])\n",
    "input_sequences = np.array(pad_sequences(input_sequences, maxlen=max_sequence_len, padding='pre'))"
   ]
  },
  {
   "cell_type": "code",
   "execution_count": 6,
   "id": "f886d384",
   "metadata": {},
   "outputs": [],
   "source": [
    "# Shuffling the data\n",
    "np.random.shuffle(input_sequences)\n",
    "input_sequences = input_sequences[:10000] "
   ]
  },
  {
   "cell_type": "code",
   "execution_count": 7,
   "id": "3ab535ad",
   "metadata": {},
   "outputs": [],
   "source": [
    "# Creating predictors and label\n",
    "xs, labels = input_sequences[:,:-1],input_sequences[:,-1]\n",
    "ys = tf.keras.utils.to_categorical(labels, num_classes=total_words)"
   ]
  },
  {
   "cell_type": "code",
   "execution_count": 8,
   "id": "fbf4ced7",
   "metadata": {},
   "outputs": [
    {
     "name": "stdout",
     "output_type": "stream",
     "text": [
      "Model: \"sequential\"\n",
      "_________________________________________________________________\n",
      " Layer (type)                Output Shape              Param #   \n",
      "=================================================================\n",
      " embedding (Embedding)       (None, 19, 100)           893200    \n",
      "                                                                 \n",
      " lstm (LSTM)                 (None, 19, 150)           150600    \n",
      "                                                                 \n",
      " lstm_1 (LSTM)               (None, 100)               100400    \n",
      "                                                                 \n",
      " dense (Dense)               (None, 8932)              902132    \n",
      "                                                                 \n",
      "=================================================================\n",
      "Total params: 2,046,332\n",
      "Trainable params: 2,046,332\n",
      "Non-trainable params: 0\n",
      "_________________________________________________________________\n"
     ]
    }
   ],
   "source": [
    "# Building a LSTM model\n",
    "model = Sequential()\n",
    "model.add(Embedding(total_words, 100, input_length=max_sequence_len-1))  \n",
    "model.add(LSTM(150, return_sequences=True))  \n",
    "model.add(LSTM(100))  \n",
    "model.add(Dense(total_words, activation='softmax'))\n",
    "model.compile(loss='categorical_crossentropy', optimizer=Adam(learning_rate=0.001), metrics=['accuracy'])\n",
    "model.summary()"
   ]
  },
  {
   "cell_type": "code",
   "execution_count": 9,
   "id": "4240eba5",
   "metadata": {},
   "outputs": [
    {
     "name": "stdout",
     "output_type": "stream",
     "text": [
      "Epoch 1/20\n",
      "79/79 [==============================] - 12s 110ms/step - loss: 7.2822 - accuracy: 0.0457\n",
      "Epoch 2/20\n",
      "79/79 [==============================] - 9s 109ms/step - loss: 6.3238 - accuracy: 0.0495\n",
      "Epoch 3/20\n",
      "79/79 [==============================] - 9s 110ms/step - loss: 6.2543 - accuracy: 0.0505\n",
      "Epoch 4/20\n",
      "79/79 [==============================] - 9s 108ms/step - loss: 6.2358 - accuracy: 0.0505\n",
      "Epoch 5/20\n",
      "79/79 [==============================] - 9s 108ms/step - loss: 6.2252 - accuracy: 0.0505\n",
      "Epoch 6/20\n",
      "79/79 [==============================] - 9s 109ms/step - loss: 6.2229 - accuracy: 0.0505\n",
      "Epoch 7/20\n",
      "79/79 [==============================] - 9s 113ms/step - loss: 6.2142 - accuracy: 0.0505\n",
      "Epoch 8/20\n",
      "79/79 [==============================] - 9s 116ms/step - loss: 6.2091 - accuracy: 0.0505\n",
      "Epoch 9/20\n",
      "79/79 [==============================] - 9s 114ms/step - loss: 6.0929 - accuracy: 0.0505\n",
      "Epoch 10/20\n",
      "79/79 [==============================] - 9s 114ms/step - loss: 5.9763 - accuracy: 0.0499\n",
      "Epoch 11/20\n",
      "79/79 [==============================] - 9s 114ms/step - loss: 5.9099 - accuracy: 0.0505\n",
      "Epoch 12/20\n",
      "79/79 [==============================] - 10s 124ms/step - loss: 5.8527 - accuracy: 0.0500\n",
      "Epoch 13/20\n",
      "79/79 [==============================] - 11s 136ms/step - loss: 5.7990 - accuracy: 0.0577\n",
      "Epoch 14/20\n",
      "79/79 [==============================] - 9s 118ms/step - loss: 5.7481 - accuracy: 0.0608\n",
      "Epoch 15/20\n",
      "79/79 [==============================] - 9s 116ms/step - loss: 5.6954 - accuracy: 0.0682\n",
      "Epoch 16/20\n",
      "79/79 [==============================] - 9s 118ms/step - loss: 5.6497 - accuracy: 0.0695\n",
      "Epoch 17/20\n",
      "79/79 [==============================] - 9s 117ms/step - loss: 5.5940 - accuracy: 0.0760\n",
      "Epoch 18/20\n",
      "79/79 [==============================] - 9s 117ms/step - loss: 5.5312 - accuracy: 0.0785\n",
      "Epoch 19/20\n",
      "79/79 [==============================] - 10s 126ms/step - loss: 5.4712 - accuracy: 0.0833\n",
      "Epoch 20/20\n",
      "79/79 [==============================] - 10s 122ms/step - loss: 5.4112 - accuracy: 0.0862\n"
     ]
    },
    {
     "data": {
      "text/plain": [
       "<keras.callbacks.History at 0x250566fbd00>"
      ]
     },
     "execution_count": 9,
     "metadata": {},
     "output_type": "execute_result"
    }
   ],
   "source": [
    "# Training the model\n",
    "model.fit(xs, ys, epochs=20, verbose=1, batch_size=128)"
   ]
  },
  {
   "cell_type": "code",
   "execution_count": 10,
   "id": "40e8c175",
   "metadata": {},
   "outputs": [],
   "source": [
    "# Function to generate predictions\n",
    "def generate_text(seed_text, next_words):\n",
    "    predictions = []\n",
    "    for _ in range(next_words):\n",
    "        token_list = tokenizer.texts_to_sequences([seed_text])[0]\n",
    "        token_list = pad_sequences([token_list], maxlen=max_sequence_len-1, padding='pre')\n",
    "        predicted_probs = model.predict(token_list, verbose=0)[0]\n",
    "        \n",
    "        # Sample from the predicted probabilities\n",
    "        predicted_index = np.random.choice(len(predicted_probs), p=predicted_probs)\n",
    "        \n",
    "        # Convert index back to word\n",
    "        output_word = tokenizer.index_word.get(predicted_index, \"\")\n",
    "        \n",
    "        predictions.append(output_word)\n",
    "    \n",
    "    return predictions"
   ]
  },
  {
   "cell_type": "code",
   "execution_count": 13,
   "id": "093c7aa3",
   "metadata": {},
   "outputs": [],
   "source": [
    "sentences = [\n",
    "    \"what is the current\",\n",
    "    \"in the garden of\",\n",
    "    \"have a good\",\n",
    "    \"what is your\",\n",
    "    \"i love\"\n",
    "]"
   ]
  },
  {
   "cell_type": "code",
   "execution_count": 14,
   "id": "e763dd37",
   "metadata": {},
   "outputs": [
    {
     "name": "stdout",
     "output_type": "stream",
     "text": [
      "what is the current\n",
      "['is', 'looked', 'unreasoning', 'by', 'vivid']\n",
      "\n",
      "in the garden of\n",
      "['as', 'fell', 'over', 'quick', 'part']\n",
      "\n",
      "have a good\n",
      "['the', 'who', 'must', 'inclined', 'marked']\n",
      "\n",
      "what is your\n",
      "['most', 'us', 'matter', 'observe', 'situation']\n",
      "\n",
      "i love\n",
      "['holmes', 'mortal', 'left', 'am', 'appear']\n",
      "\n"
     ]
    }
   ],
   "source": [
    "for sentence in sentences:\n",
    "    print(sentence)\n",
    "    predictions = generate_text(sentence, 5)\n",
    "    print(predictions)\n",
    "    print()"
   ]
  },
  {
   "cell_type": "code",
   "execution_count": null,
   "id": "2518c500",
   "metadata": {},
   "outputs": [],
   "source": []
  }
 ],
 "metadata": {
  "kernelspec": {
   "display_name": "Python 3 (ipykernel)",
   "language": "python",
   "name": "python3"
  },
  "language_info": {
   "codemirror_mode": {
    "name": "ipython",
    "version": 3
   },
   "file_extension": ".py",
   "mimetype": "text/x-python",
   "name": "python",
   "nbconvert_exporter": "python",
   "pygments_lexer": "ipython3",
   "version": "3.9.1"
  }
 },
 "nbformat": 4,
 "nbformat_minor": 5
}
