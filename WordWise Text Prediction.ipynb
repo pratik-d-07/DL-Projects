{
 "cells": [
  {
   "cell_type": "code",
   "execution_count": 1,
   "id": "f3e4faca",
   "metadata": {},
   "outputs": [],
   "source": [
    "# Importing Libraries\n",
    "import numpy as np\n",
    "import tensorflow as tf\n",
    "from tensorflow.keras.models import Sequential\n",
    "from tensorflow.keras.layers import LSTM, Dense, Embedding\n",
    "from tensorflow.keras.preprocessing.text import Tokenizer\n",
    "from tensorflow.keras.preprocessing.sequence import pad_sequences"
   ]
  },
  {
   "cell_type": "code",
   "execution_count": 2,
   "id": "239e54aa",
   "metadata": {},
   "outputs": [],
   "source": [
    "# Loading text file\n",
    "with open('word-predict.txt', 'r', encoding='utf-8') as file:\n",
    "    data = file.read()"
   ]
  },
  {
   "cell_type": "code",
   "execution_count": 3,
   "id": "625de1dc",
   "metadata": {},
   "outputs": [],
   "source": [
    "# Tokenizing the text\n",
    "tokenizer = Tokenizer()\n",
    "tokenizer.fit_on_texts([data])\n",
    "total_words = len(tokenizer.word_index) + 1"
   ]
  },
  {
   "cell_type": "code",
   "execution_count": 4,
   "id": "73011ba4",
   "metadata": {},
   "outputs": [],
   "source": [
    "# Creating input sequences using the tokenizer\n",
    "input_sequences = []\n",
    "for line in data.split('\\n'):\n",
    "    token_list = tokenizer.texts_to_sequences([line])[0]\n",
    "    for i in range(1, len(token_list)):\n",
    "        n_gram_sequence = token_list[:i+1]\n",
    "        input_sequences.append(n_gram_sequence)"
   ]
  },
  {
   "cell_type": "code",
   "execution_count": 5,
   "id": "acde3a2d",
   "metadata": {},
   "outputs": [],
   "source": [
    "# Pad sequences to have same length\n",
    "max_sequence_len = max([len(x) for x in input_sequences])\n",
    "input_sequences = np.array(pad_sequences(input_sequences, maxlen=max_sequence_len, padding='pre'))"
   ]
  },
  {
   "cell_type": "code",
   "execution_count": 6,
   "id": "8c69cc49",
   "metadata": {},
   "outputs": [],
   "source": [
    "# Creating predictors and labels\n",
    "X, y = input_sequences[:,:-1], input_sequences[:,-1]\n",
    "y = np.array(tf.keras.utils.to_categorical(y, num_classes=total_words))"
   ]
  },
  {
   "cell_type": "code",
   "execution_count": 7,
   "id": "e7622d49",
   "metadata": {},
   "outputs": [],
   "source": [
    "# Using a smaller subset of data\n",
    "subset_size = 50000\n",
    "X_subset, y_subset = X[:subset_size], y[:subset_size]"
   ]
  },
  {
   "cell_type": "code",
   "execution_count": 8,
   "id": "7d504f01",
   "metadata": {},
   "outputs": [],
   "source": [
    "# Building LSTM model\n",
    "model = Sequential()\n",
    "model.add(Embedding(total_words, 100, input_length=max_sequence_len-1))\n",
    "model.add(LSTM(150, return_sequences=True))\n",
    "model.add(LSTM(100))\n",
    "model.add(Dense(total_words, activation='softmax'))"
   ]
  },
  {
   "cell_type": "code",
   "execution_count": 9,
   "id": "eb4604b2",
   "metadata": {},
   "outputs": [],
   "source": [
    "# Compiling the model\n",
    "model.compile(loss='categorical_crossentropy', optimizer='adam', metrics=['accuracy'])"
   ]
  },
  {
   "cell_type": "code",
   "execution_count": 10,
   "id": "b7fd421d",
   "metadata": {},
   "outputs": [
    {
     "name": "stdout",
     "output_type": "stream",
     "text": [
      "Epoch 1/10\n",
      "782/782 [==============================] - 77s 92ms/step - loss: 6.6095 - accuracy: 0.0523\n",
      "Epoch 2/10\n",
      "782/782 [==============================] - 114s 145ms/step - loss: 6.0886 - accuracy: 0.0674\n",
      "Epoch 3/10\n",
      "782/782 [==============================] - 68s 86ms/step - loss: 5.8243 - accuracy: 0.0804\n",
      "Epoch 4/10\n",
      "782/782 [==============================] - 70s 90ms/step - loss: 5.6202 - accuracy: 0.0987\n",
      "Epoch 5/10\n",
      "782/782 [==============================] - 67s 85ms/step - loss: 5.4419 - accuracy: 0.1126\n",
      "Epoch 6/10\n",
      "782/782 [==============================] - 66s 84ms/step - loss: 5.2896 - accuracy: 0.1266\n",
      "Epoch 7/10\n",
      "782/782 [==============================] - 67s 85ms/step - loss: 5.1519 - accuracy: 0.1350\n",
      "Epoch 8/10\n",
      "782/782 [==============================] - 67s 86ms/step - loss: 5.0237 - accuracy: 0.1441\n",
      "Epoch 9/10\n",
      "782/782 [==============================] - 71s 91ms/step - loss: 4.8988 - accuracy: 0.1524\n",
      "Epoch 10/10\n",
      "782/782 [==============================] - 79s 101ms/step - loss: 4.7838 - accuracy: 0.1600\n"
     ]
    },
    {
     "data": {
      "text/plain": [
       "<keras.callbacks.History at 0x190ad7281f0>"
      ]
     },
     "execution_count": 10,
     "metadata": {},
     "output_type": "execute_result"
    }
   ],
   "source": [
    "# Training the model\n",
    "model.fit(X_subset, y_subset, epochs=10, verbose=1, batch_size=64) "
   ]
  },
  {
   "cell_type": "code",
   "execution_count": 37,
   "id": "597f085e",
   "metadata": {},
   "outputs": [
    {
     "name": "stdout",
     "output_type": "stream",
     "text": [
      "1/1 [==============================] - 0s 21ms/step\n",
      "1/1 [==============================] - 0s 22ms/step\n",
      "1/1 [==============================] - 0s 21ms/step\n",
      "1/1 [==============================] - 0s 22ms/step\n",
      "I am good to be a little\n"
     ]
    }
   ],
   "source": [
    "generated_text = generate_text(\"I am good\", 4, max_sequence_len)\n",
    "print(generated_text)"
   ]
  },
  {
   "cell_type": "code",
   "execution_count": 38,
   "id": "c0994297",
   "metadata": {},
   "outputs": [
    {
     "name": "stdout",
     "output_type": "stream",
     "text": [
      "1/1 [==============================] - 0s 21ms/step\n",
      "1/1 [==============================] - 0s 21ms/step\n",
      "1/1 [==============================] - 0s 23ms/step\n",
      "1/1 [==============================] - 0s 21ms/step\n",
      "1/1 [==============================] - 0s 20ms/step\n",
      "Where are as i have been a\n"
     ]
    }
   ],
   "source": [
    "generated_text = generate_text(\"Where are\", 5, max_sequence_len)\n",
    "print(generated_text)"
   ]
  },
  {
   "cell_type": "code",
   "execution_count": null,
   "id": "a78f8c5b",
   "metadata": {},
   "outputs": [],
   "source": []
  }
 ],
 "metadata": {
  "kernelspec": {
   "display_name": "Python 3 (ipykernel)",
   "language": "python",
   "name": "python3"
  },
  "language_info": {
   "codemirror_mode": {
    "name": "ipython",
    "version": 3
   },
   "file_extension": ".py",
   "mimetype": "text/x-python",
   "name": "python",
   "nbconvert_exporter": "python",
   "pygments_lexer": "ipython3",
   "version": "3.9.1"
  }
 },
 "nbformat": 4,
 "nbformat_minor": 5
}
